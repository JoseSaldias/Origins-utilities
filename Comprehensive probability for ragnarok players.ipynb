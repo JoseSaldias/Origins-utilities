{
 "cells": [
  {
   "cell_type": "markdown",
   "metadata": {},
   "source": [
    "Introduction\n",
    "------------------\n",
    "\n",
    "Many times players try to estimate the amount on mobs to kill in order to obtain a certain drop. Albeit drop chance is reasonably simple for a single kill, many are mislead by extrapolating chances into averages yielding unreasonable expectations. This notebook strives to explain how drop porbability works for any type of mobs.\n",
    "\n",
    "What are the chances?\n",
    "--------------------------------\n",
    "\n",
    "Every time a mob is killed a dice is rolled, the dice rolls are randomly distributed (i.e: [Pseudorandom](https://en.wikipedia.org/wiki/Pseudorandomness#Unpredictability_as_%22almost_random%22)). This means **each mob rolls independently of each other and shares the same distribution as any other roll** which gives the proper foundation for statistical analysis.\n",
    "\n",
    "Let us start with some definitions: Let $p$ be the drop probability of the item $I$ (i.e 0.5% equals a probability of 0.005) and the monster kill that rolls the dice an Event $E$. Thus, the probability of getting said item $x = 1$ time is expressed as following.\n",
    "\n",
    "$$\n",
    "P(x=1) = p\n",
    "$$\n",
    "\n",
    "Similarly, the complementary probability (i.e the chance of *not* dropping the item) is\n",
    "\n",
    "$$\n",
    "P(x=0) = 1-p\n",
    "$$\n",
    "\n",
    "The more I kill the better the odds. Or are they?\n",
    "--------------------------------------------------------------------\n",
    "\n",
    "Let us say we kill more than one mob and we want to see the chance of getting the item after $n$ tries. This would mean we have to know the behaviour of the probability when queueing up kills on a set of $n$ values. Mathematically this can be expressed as the joint probability of two separate eventes $E_A$ and $E_B$ Because each roll in **independent of each other**, two failed rolls obey:\n",
    "\n",
    "$$\n",
    "P(E_A \\cap E_B) = P(E_A) \\cdot P(E_B)\n",
    "$$\n",
    "\n",
    "Since these are failed rolls\n",
    "\n",
    "$$\n",
    "P(E_A \\cap E_B) = (1-p)\\cdot (1-p)\n",
    "$$\n",
    "\n",
    "Since a dice is rolled everytime we kill a mob we can calculate the probability of getting the item on $n$ amount of kills. Though, the single mob that drops the item could be any of the set (i.e could be the first, second, last, etc). Instead of running the combinatoric of every kill there is a simpler approach. Let us say we fail on **evey single single mob we kill**, then the probability for n tries is\n",
    "\n",
    "$$\n",
    "P(x = 0) = \\underbrace{(1-p)\\cdot(1-p)\\cdot(1-p)\\dotso(1-p)}_{n\\, Times}  \n",
    "$$\n",
    "\n",
    "$$\n",
    "P(x=0) = (1-p)^n\n",
    "$$\n",
    "\n",
    "But we know there are only two outcomes for the roll, so the complementary probability **is the chance of rolling the drop at least once**. This means that the chance of getting **one or more** of the desired drop is\n",
    "\n",
    "$$\n",
    "P(x > 0) = 1 - P(x = 0)\n",
    "$$\n",
    "\n",
    "$$\n",
    "P(x > 0) = 1 - (1-p)^n\n",
    "$$\n",
    "\n",
    "Example\n",
    "------------\n",
    "\n",
    "We want to calculate the chance of dropping a regular card by killing 2000 monsters ($n = 2000$), this means that the odds for a single monster is 0.05% or $p = 0.0005$. Based on the previous expression:\n",
    "\n",
    "$$\n",
    "P(x>0) = 1-(1-p)^n\n",
    "$$\n",
    "\n",
    "$$\n",
    "P(x>0) = 1-(1-0.0005)^{2000}\n",
    "$$\n",
    "\n",
    "$$\n",
    "P(x>0) = 1-0.9995^{2000}\n",
    "$$\n",
    "\n",
    "$$\n",
    "P(x>0) = 0.6322\n",
    "$$\n",
    "\n",
    "Which means that by killing 2000 mobs you have roughly a 63.2% chance of getting the item *at least one time*\n",
    "\n",
    "Bellow, you will find a python line to calculate the likelyhood of a certain item for a given amount of mobs. The code can be excecuted by any ipython console (Idle, [python online compiler](https://www.onlinegdb.com/online_python_compiler), [or making a jupyter notebooks account](https://jupyter.org/))\n",
    "\n",
    "For any addition or suggestion please message me on github or discord (Hefferwolf#6626)\n"
   ]
  },
  {
   "cell_type": "code",
   "execution_count": 8,
   "metadata": {},
   "outputs": [
    {
     "data": {
      "text/plain": [
       "0.6322125478539891"
      ]
     },
     "execution_count": 8,
     "metadata": {},
     "output_type": "execute_result"
    }
   ],
   "source": [
    "def set_chance(p, n):\n",
    "    return 1-(1-p)**n\n",
    "\n",
    "p = 0.0005\n",
    "n = 2000\n",
    "set_chance(p,n)"
   ]
  }
 ],
 "metadata": {
  "kernelspec": {
   "display_name": "Python 3",
   "language": "python",
   "name": "python3"
  },
  "language_info": {
   "codemirror_mode": {
    "name": "ipython",
    "version": 3
   },
   "file_extension": ".py",
   "mimetype": "text/x-python",
   "name": "python",
   "nbconvert_exporter": "python",
   "pygments_lexer": "ipython3",
   "version": "3.8.5"
  }
 },
 "nbformat": 4,
 "nbformat_minor": 4
}
