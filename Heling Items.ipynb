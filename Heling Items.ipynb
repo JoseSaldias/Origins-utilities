{
 "cells": [
  {
   "cell_type": "markdown",
   "metadata": {},
   "source": [
    "Restoration Value Calculator\n",
    "=======================\n",
    "\n",
    "Formula\n",
    "-----------\n",
    "\n",
    "$$\n",
    "\\lfloor \\lfloor Healing\\_Value \\cdot (1 + User\\_Vit \\cdot 0.02 + Hp\\_recovery\\_Lv \\cdot 0.1) \\rfloor \\cdot (1 + Pot\\_Research\\_Lv \\cdot 0.05) \\rfloor\n",
    "$$\n",
    "\n",
    "Where:\n",
    "\n",
    "$$\n",
    "Healing\\_Value = Average\\_Item\\_Value \\cdot (1 + 0.2 \\cdot Fricco\\_Shoes)\n",
    "$$\n",
    "\n",
    "And\n",
    "$$\n",
    "Fricco\\_Shoes =\n",
    "\\left\\{\n",
    "\t\\begin{array}{ll}\n",
    "\t\t1  & \\mbox{if } Equipped \\\\\n",
    "\t\t0 & \\mbox{if } Not Equipped\n",
    "\t\\end{array}\n",
    "\\right.\n",
    "$$\n",
    "\n",
    "Item database market values are estimated based of OriginsRO Market "
   ]
  },
  {
   "cell_type": "code",
   "execution_count": 41,
   "metadata": {},
   "outputs": [],
   "source": [
    "# Restoration value function\n",
    "\n",
    "# Dependencies\n",
    "import numpy as np\n",
    "\n",
    "def healing(db, item_name, total_vit = 1, hp_recovery = 0, potion_research = 0, fricco_shoes = 0, print_val = False):\n",
    "    \"\"\" Calculates total healing taking item_db as item database\"\"\"\n",
    "    \n",
    "    # Fix item name \n",
    "    item_name = item_name.title()\n",
    "    \n",
    "    # Value calculation for potion items\n",
    "    if item_name[-6:] == 'Potion':\n",
    "        value = np.floor(np.floor(db[item_name][0] * (1 + 0.2 * fricco_shoes) * (1 + total_vit * 0.02 + hp_recovery * 0.1))\n",
    "              * (1 + potion_research * 0.05))\n",
    "    \n",
    "    # Value calculation for non potion item\n",
    "    else:\n",
    "        value = np.floor(np.floor(db[item_name][0] * (1 + total_vit * 0.02 + hp_recovery * 0.1)) * (1 + potion_research * 0.05))    \n",
    "    \n",
    "    # Print value Option\n",
    "    if print_val:\n",
    "        print('Item {item} heals for {val} with {vit} vit'.format(item = item_name, val = value, vit = total_vit))\n",
    "\n",
    "    return value\n",
    "\n",
    "# Sorting Function\n",
    "def show_sorted(db_dict):\n",
    "    sorted_items = sorted(db_dict.items(), key=lambda x: x[1], reverse=True)\n",
    "    for i in sorted_items:\n",
    "        n = 20 - len(i[0])\n",
    "        print(i[0],' '*n, ' \\t', i[1])\n",
    "\n"
   ]
  },
  {
   "cell_type": "code",
   "execution_count": 32,
   "metadata": {},
   "outputs": [],
   "source": [
    "# Item database format 'Item_Name' : [Healing Value, Market Value, Weight]\n",
    "\n",
    "item_db = {\n",
    "    \n",
    "    'Ranked White Potion' : [547.5, 830, 15],\n",
    "    'Mastela Fruit' : [500, 6460, 3],\n",
    "    'Ranked Yellow Potion' : [307.5, 260, 13],\n",
    "    'Aloe Leaflet' : [365, 900, 2],\n",
    "    'Royal Jelly' : [365, 4500, 15],\n",
    "    'White Potion' : [365, 912, 15],\n",
    "    'Piece Of Cake' : [300, 2500, 10],\n",
    "    'Yellow Potion' : [205, 418, 13],\n",
    "    'Hinalle Leaflet' : [205, 600, 1],\n",
    "    'Well-Baked Cookie' : [180, 1000, 3],\n",
    "    'Orange Potion' : [125, 152, 10],\n",
    "    'Candy Cane' : [125, 800, 4],\n",
    "    'Fresh Fish' : [125, 190, 2],\n",
    "    'Ice Cream' : [125, 150, 8],\n",
    "    'Ranked Red Potion' : [82.5, 300, 2],\n",
    "    'White Herb' : [95, 800, 7],\n",
    "    'Monsters Feed' : [90, 50, 15],\n",
    "    'Honey' : [85, 1100, 10],\n",
    "    'Meat' : [85, 38, 15],\n",
    "    'Yam' : [75, 200, 8],\n",
    "    'Pet Food' : [70, 760, 1],\n",
    "    'Red Potion' : [55, 38, 7],\n",
    "    'Sushi' : [55, 38, 5],\n",
    "    'Bao' : [52.5, 500, 5],\n",
    "    'Yellow Herb' : [48, 210, 5]\n",
    "}\n"
   ]
  },
  {
   "cell_type": "code",
   "execution_count": 47,
   "metadata": {},
   "outputs": [],
   "source": [
    "# Reference vit value - can be numpy array \n",
    "vit = 100\n",
    "\n",
    "raw_heal = {}\n",
    "for item in item_db.keys():\n",
    "    restoration_amt = healing(item_db, item, vit, fricco_shoes = 1)\n",
    "    raw_heal[item] = restoration_amt\n",
    "    \n",
    "heal_price_ratio ={}\n",
    "for item in item_db.keys():\n",
    "    market_price = item_db[item][1]\n",
    "    restoration_amt = healing(item_db, item, vit, fricco_shoes = 1)\n",
    "    heal_price_ratio[item] = round(restoration_amt/market_price, 1)\n",
    "\n",
    "heal_weight_ratio = {}\n",
    "for item in item_db.keys():\n",
    "    weight = item_db[item][2]\n",
    "    restoration_amt = healing(item_db, item, vit, fricco_shoes = 1)\n",
    "    heal_weight_ratio[item] = round(restoration_amt/weight, 1)"
   ]
  },
  {
   "cell_type": "code",
   "execution_count": 49,
   "metadata": {},
   "outputs": [
    {
     "name": "stdout",
     "output_type": "stream",
     "text": [
      "Ranked White Potion    \t 1971.0\n",
      "Mastela Fruit          \t 1500.0\n",
      "White Potion           \t 1314.0\n",
      "Ranked Yellow Potion   \t 1107.0\n",
      "Aloe Leaflet           \t 1095.0\n",
      "Royal Jelly            \t 1095.0\n",
      "Piece Of Cake          \t 900.0\n",
      "Yellow Potion          \t 738.0\n",
      "Hinalle Leaflet        \t 615.0\n",
      "Well-Baked Cookie      \t 540.0\n",
      "Orange Potion          \t 450.0\n",
      "Candy Cane             \t 375.0\n",
      "Fresh Fish             \t 375.0\n",
      "Ice Cream              \t 375.0\n",
      "Ranked Red Potion      \t 297.0\n",
      "White Herb             \t 285.0\n",
      "Monsters Feed          \t 270.0\n",
      "Honey                  \t 255.0\n",
      "Meat                   \t 255.0\n",
      "Yam                    \t 225.0\n",
      "Pet Food               \t 210.0\n",
      "Red Potion             \t 198.0\n",
      "Sushi                  \t 165.0\n",
      "Bao                    \t 157.0\n",
      "Yellow Herb            \t 144.0\n"
     ]
    }
   ],
   "source": [
    "show_sorted(raw_heal)"
   ]
  },
  {
   "cell_type": "code",
   "execution_count": 48,
   "metadata": {},
   "outputs": [
    {
     "name": "stdout",
     "output_type": "stream",
     "text": [
      "Meat                   \t 6.7\n",
      "Monsters Feed          \t 5.4\n",
      "Red Potion             \t 5.2\n",
      "Ranked Yellow Potion   \t 4.3\n",
      "Sushi                  \t 4.3\n",
      "Orange Potion          \t 3.0\n",
      "Ice Cream              \t 2.5\n",
      "Ranked White Potion    \t 2.4\n",
      "Fresh Fish             \t 2.0\n",
      "Yellow Potion          \t 1.8\n",
      "White Potion           \t 1.4\n",
      "Aloe Leaflet           \t 1.2\n",
      "Yam                    \t 1.1\n",
      "Hinalle Leaflet        \t 1.0\n",
      "Ranked Red Potion      \t 1.0\n",
      "Yellow Herb            \t 0.7\n",
      "Well-Baked Cookie      \t 0.5\n",
      "Candy Cane             \t 0.5\n",
      "Piece Of Cake          \t 0.4\n",
      "White Herb             \t 0.4\n",
      "Pet Food               \t 0.3\n",
      "Bao                    \t 0.3\n",
      "Mastela Fruit          \t 0.2\n",
      "Royal Jelly            \t 0.2\n",
      "Honey                  \t 0.2\n"
     ]
    }
   ],
   "source": [
    "show_sorted(heal_price_ratio)"
   ]
  },
  {
   "cell_type": "code",
   "execution_count": 50,
   "metadata": {},
   "outputs": [
    {
     "name": "stdout",
     "output_type": "stream",
     "text": [
      "Hinalle Leaflet        \t 615.0\n",
      "Aloe Leaflet           \t 547.5\n",
      "Mastela Fruit          \t 500.0\n",
      "Pet Food               \t 210.0\n",
      "Fresh Fish             \t 187.5\n",
      "Well-Baked Cookie      \t 180.0\n",
      "Ranked Red Potion      \t 148.5\n",
      "Ranked White Potion    \t 131.4\n",
      "Candy Cane             \t 93.8\n",
      "Piece Of Cake          \t 90.0\n",
      "White Potion           \t 87.6\n",
      "Ranked Yellow Potion   \t 85.2\n",
      "Royal Jelly            \t 73.0\n",
      "Yellow Potion          \t 56.8\n",
      "Ice Cream              \t 46.9\n",
      "Orange Potion          \t 45.0\n",
      "White Herb             \t 40.7\n",
      "Sushi                  \t 33.0\n",
      "Bao                    \t 31.4\n",
      "Yellow Herb            \t 28.8\n",
      "Red Potion             \t 28.3\n",
      "Yam                    \t 28.1\n",
      "Honey                  \t 25.5\n",
      "Monsters Feed          \t 18.0\n",
      "Meat                   \t 17.0\n"
     ]
    }
   ],
   "source": [
    "show_sorted(heal_weight_ratio)"
   ]
  }
 ],
 "metadata": {
  "kernelspec": {
   "display_name": "Python 3",
   "language": "python",
   "name": "python3"
  },
  "language_info": {
   "codemirror_mode": {
    "name": "ipython",
    "version": 3
   },
   "file_extension": ".py",
   "mimetype": "text/x-python",
   "name": "python",
   "nbconvert_exporter": "python",
   "pygments_lexer": "ipython3",
   "version": "3.8.5"
  }
 },
 "nbformat": 4,
 "nbformat_minor": 4
}
