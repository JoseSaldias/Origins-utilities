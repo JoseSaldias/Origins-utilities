{
 "cells": [
  {
   "cell_type": "markdown",
   "metadata": {},
   "source": [
    "# Acid Demonstration aka. Acid bomb damage Calculator\n",
    "\n",
    "## Acid Demo formula\n",
    "\n",
    "$$\n",
    "Damage = \\Bigg{\\lfloor} A \\cdot (1-B) \\cdot (1-C) \\cdot (1-D) \\cdot (1-E) \\cdot F \\cdot G \\cdot \n",
    "\\Big{\\lfloor} \\frac{H \\cdot 0.7 \\cdot INT^{2} \\cdot VIT}{INT+VIT}\\Big{\\rfloor} \\Bigg{\\rfloor}\n",
    "$$\n",
    "\n",
    "Where:\n",
    "\n",
    "* **SL** - Skill Level<br /> <br />\n",
    "\n",
    "* **A** - Type:\n",
    "    - 0.5 for player\n",
    "    - 1 for monster <br /> <br /> \n",
    "* **B** Race reduction for gear or card:  \n",
    "    \n",
    "    * 0.3 Thara Frog Card\n",
    "    * 0.1 Poopoo Hat \n",
    "    * 0.05 Zealotus Mask\n",
    "    * 0.1 Combat Knife <br /> <br /> \n",
    "\n",
    "* **C** - Element reduction gear/card:\n",
    "    * 0.75 Ghostring Card <br /> <br /> \n",
    "\n",
    "* **D** - Neutral damage reduction gear/card:\n",
    "    * 0.2 Raydric Card\n",
    "    * 0.1 Noxious Card\n",
    "    * 0.5 Deviling Card <br /> <br /> \n",
    "    \n",
    "* **E** - Long range reductions gear/card:\n",
    "    * 0.05 Alligator Card\n",
    "    * 0.35 Horn Card\n",
    "    * 0.1 Noxious Card\n",
    "    * 0.1 Long Mace <br /> <br /> \n",
    "    \n",
    "* **F** - Map multiplier:\n",
    "    * 0.6 For WoE maps\n",
    "    * 1 For PvM and PvP maps <br /> <br /> \n",
    "    \n",
    "* **G** - Buffs:\n",
    "    * 2/3 For players with Assumptio\n",
    "    * 1 For players without Assumptio <br /> <br /> \n",
    "        \n",
    "* **H** - Debuffs:\n",
    "    * 2 For Lex Aeterna\n",
    "    * 1 Otherwise <br /> <br /> \n",
    "    \n",
    "* **INT** - Biochemist INT stat <br /> <br /> \n",
    "* **VIT** - Target VIT stat <br /> <br /> \n",
    "\n",
    "To get a better understanding of the damage formula, lets do some definitions and algebra, let $P_c$ be the player's constant which is defined by the gear reductions.\n",
    "\n",
    "$$\n",
    "P_c = A \\cdot (1-B) \\cdot (1-C) \\cdot (1-D) \\cdot (1-E)\n",
    "$$\n",
    "\n",
    "Giving us:\n",
    "$$\n",
    "Damage =  SL \\cdot \\Bigg{\\lfloor} P_c \\cdot G \\cdot F \\Big{\\lfloor} \\frac{H \\cdot 0.7 \\cdot INT^{2} \\cdot VIT}{INT+VIT}\\Big{\\rfloor} \\Bigg{\\rfloor}\n",
    "$$\n",
    "\n",
    "Which is the same as\n",
    "\n",
    "$$\n",
    "Damage =  SL \\cdot \\Bigg{\\lfloor} P_c \\cdot G \\cdot F \\Big{\\lfloor} H \\cdot 0.7 \\frac{INT \\cdot VIT}{1+\\frac{VIT}{INT}}\\Big{\\rfloor} \\Bigg{\\rfloor}\n",
    "$$\n",
    "\n",
    "This means that there are 3 interesting conditions to examine\n",
    "\n",
    "### VIT and INT values are similar\n",
    "\n",
    "$$\n",
    "INT \\sim VIT \\rightarrow Damage \\sim SL \\cdot \\Bigg{\\lfloor} P_c \\cdot G \\cdot F \\Big{\\lfloor} H \\cdot 0.7 \\cdot \\frac{{INT}^2}{2}\\Big{\\rfloor} \\Bigg{\\rfloor}\n",
    "$$\n",
    "\n",
    "### INT is much greater than VIT\n",
    "\n",
    "$$\n",
    "INT \\gg VIT \\rightarrow Damage  \\asymp  SL \\cdot \\Bigg{\\lfloor} P_c \\cdot G \\cdot F\\Big{\\lfloor} H \\cdot 0.7 \\cdot INT \\cdot VIT\\Big{\\rfloor} \\Bigg{\\rfloor}\n",
    "$$\n",
    "\n",
    "### INT is much smaller than VIT\n",
    "\n",
    "$$\n",
    "Damage = SL \\cdot \\Bigg{\\lfloor} P_c \\cdot G \\cdot F \\Big{\\lfloor}H \\cdot 0.7  \\frac{ INT^{2}}{\\frac{INT}{VIT}+1}\\Big{\\rfloor} \\Bigg{\\rfloor}\n",
    "$$\n",
    "\n",
    "$$\n",
    "INT \\ll VIT \\rightarrow Damage \\asymp SL \\cdot \\Bigg{\\lfloor} P_c \\cdot G \\cdot F \\Big{\\lfloor}H \\cdot 0.7 \\cdot  INT^2 \\Big{\\rfloor} \\Bigg{\\rfloor}\n",
    "$$\n",
    "\n",
    "This gives us information about the relationship of the player's inteligence versus target vitality. Given a certain amount of Vitality, the more inteligence we add the less impactful that status point will be compared to the previous one but will still add significant value just not so much as before. <br /> <br /> \n",
    "\n",
    "For many PvP environments, having a good amount of VIT as it reduces the chances of getting inflicted with negative status such as stun, preventing them from doing any action, leaving them vulnerable. It is also common for creators to have high inteligence values, though with the gear available there is only so much INT a player can have. This notebooks strives to compute damage values in different scenarios, giving a good sense of how it damage calculation works."
   ]
  },
  {
   "cell_type": "code",
   "execution_count": 67,
   "metadata": {},
   "outputs": [],
   "source": [
    "\"\"\"\n",
    "The following python code is meant to calculate the first damage formula listed above. In order to be\n",
    "interactive, some variables indicated with comments are meant to have their values to be changed (see reference above)\n",
    "(remember to press ctrl + enter to run the cell!)\n",
    "\"\"\"\n",
    "\n",
    "# Change these Values to your liking!\n",
    "# Player's Constant\n",
    "SL = 10 # Skill Level\n",
    "A = 0.5  # Player (0.5) or Monster (1)\n",
    "B = 0.5  # Racial Reduction gear/card (0.3 Thara Frog Card, 0.1 Poopoo Hat, 0.05 Zealotus Mask, 0.1 Combat Knife)\n",
    "C = 0    # Element Reduction (0.75 Ghostring Card) \n",
    "D = 0.2  # Neutral Reduction (0.2 Raydric Card, 0.1 Noxious Card, 0.5 Deviling Card)\n",
    "E = (0.05 * 1 )  # (0.05 Alligator Card, 0.35 Horn Card, 0.1 Noxious Card, 0.1 Long Mace)\n",
    "\n",
    "# Environment\n",
    "F = 0.6  # Map (0.6 for WoE maps, 1 for PvM and PvP maps)\n",
    "\n",
    "# Debuffs/buffs\n",
    "G = 1 # Assumptio? 2/3 for players with Assumptio, 1 for players without Assumptio\n",
    "H = 1 # lex?  2 for Lex Aeterna, 1 otherwise\n",
    "\n",
    "#Status\n",
    "INT = 139 # Creator's total Inteligence\n",
    "VIT = 100 # Target's total Vitality\n",
    "\n",
    "# Funciton | Do NOT change these values\n",
    "def acid_demo(SL, A, B, C, D, E, F, G, H, INT, VIT):\n",
    "    \"\"\" This functions Calculates the damage for the Acid Bomb skill following the OriginsRO wiki formula\n",
    "    https://wiki.originsro.org/wiki/Acid_Bomb \"\"\"\n",
    "    \n",
    "    # Player constant\n",
    "    pc = A * (1 - B) * (1 - C) * (1 - D) * (1 - E)\n",
    "    damage = SL * round(pc * G * F * round((H * 0.7 * INT ** 2 * VIT)/(INT + VIT)))\n",
    "    rtn_msg = \"\"\"\n",
    "    Results:\n",
    "    \n",
    "        Player's Int: \\t {}\n",
    "        Target's Vit: \\t {}\n",
    "        Damage done: \\t {}\n",
    "    \"\"\".format(INT, VIT, damage)\n",
    "    return print(rtn_msg)\n",
    "\n",
    "def acid_demo_damage(SL, A, B, C, D, E, F, G, H, INT, VIT):\n",
    "    \"\"\" This functions Calculates the damage for the Acid Bomb skill following the OriginsRO wiki formula\n",
    "    https://wiki.originsro.org/wiki/Acid_Bomb \"\"\"\n",
    "    \n",
    "    # Player constant\n",
    "    pc = A * (1 - B) * (1 - C) * (1 - D) * (1 - E)\n",
    "    damage = SL * round(pc * G * F * round((H * 0.7 * INT ** 2 * VIT)/(INT + VIT)))\n",
    "    return damage"
   ]
  },
  {
   "cell_type": "code",
   "execution_count": 68,
   "metadata": {},
   "outputs": [
    {
     "name": "stdout",
     "output_type": "stream",
     "text": [
      "\n",
      "    Results:\n",
      "    \n",
      "        Player's Int: \t 139\n",
      "        Target's Vit: \t 100\n",
      "        Damage done: \t 6450\n",
      "    \n"
     ]
    }
   ],
   "source": [
    "acid_demo(SL, A, B, C, D, E, F, G, H, INT, VIT)"
   ]
  },
  {
   "cell_type": "code",
   "execution_count": 69,
   "metadata": {},
   "outputs": [],
   "source": [
    "import numpy as np\n",
    "def max_hp(mod_a, mod_b, bonus_a, bonus_b, is_trans, apple_song, baselvl, vit):\n",
    "    \"\"\"\n",
    "    mod_a: job modifier 1 for base hp (0.75 for prof)\n",
    "    mod_b: job modifier 2 for base hp (5 for prof)\n",
    "    \n",
    "    bonus_a : additive bonus for max hp\n",
    "    bonus_b : multiplicative bonus (1.1 for Green ferus)\n",
    "    \n",
    "    is_trans: True if trans, False if not\n",
    "    apple_song: True if apple on, False if not\n",
    "    \n",
    "    baselvl: base level\n",
    "    vit: total vitality\n",
    "    \"\"\"\n",
    "    apple_boost = 1 + (5+ 20 + np.floor(100/10) + 10)/100*apple_song\n",
    "    job_mod = 1 + 0.25 * is_trans\n",
    "    base_hp = np.floor(35 + baselvl * mod_b + mod_a * (baselvl+1) * baselvl*0.5)\n",
    "    max_hp = np.floor(np.floor(((base_hp * (1 + vit * 0.01) * job_mod) + bonus_a) * bonus_b )*apple_boost)\n",
    "    return max_hp"
   ]
  },
  {
   "cell_type": "code",
   "execution_count": 64,
   "metadata": {},
   "outputs": [
    {
     "data": {
      "text/plain": [
       "16914.0"
      ]
     },
     "execution_count": 64,
     "metadata": {},
     "output_type": "execute_result"
    }
   ],
   "source": [
    "max_hp(0.75, 5, 0, 1.1, True,True, 99, 100)"
   ]
  },
  {
   "cell_type": "code",
   "execution_count": 70,
   "metadata": {},
   "outputs": [
    {
     "name": "stdout",
     "output_type": "stream",
     "text": [
      "80 \t 3 \t 5630 \t 16914.0\n",
      "81 \t 3 \t 5680 \t 16914.0\n",
      "82 \t 3 \t 5720 \t 16914.0\n",
      "83 \t 3 \t 5760 \t 16914.0\n",
      "84 \t 3 \t 5810 \t 16914.0\n",
      "85 \t 3 \t 5850 \t 16914.0\n",
      "86 \t 3 \t 5890 \t 16914.0\n",
      "87 \t 3 \t 5930 \t 16914.0\n",
      "88 \t 3 \t 5980 \t 16914.0\n",
      "89 \t 3 \t 6020 \t 16914.0\n",
      "90 \t 3 \t 6060 \t 16914.0\n",
      "91 \t 3 \t 6100 \t 16914.0\n",
      "92 \t 3 \t 6140 \t 16914.0\n",
      "93 \t 3 \t 6180 \t 16914.0\n",
      "94 \t 3 \t 6220 \t 16914.0\n",
      "95 \t 3 \t 6260 \t 16914.0\n",
      "96 \t 3 \t 6300 \t 16914.0\n",
      "97 \t 3 \t 6340 \t 16914.0\n",
      "98 \t 3 \t 6370 \t 16914.0\n",
      "99 \t 3 \t 6410 \t 16914.0\n",
      "100 \t 3 \t 6450 \t 16914.0\n",
      "101 \t 3 \t 6490 \t 16914.0\n",
      "102 \t 3 \t 6530 \t 16914.0\n",
      "103 \t 3 \t 6560 \t 16914.0\n",
      "104 \t 3 \t 6600 \t 16914.0\n",
      "105 \t 3 \t 6630 \t 16914.0\n",
      "106 \t 3 \t 6670 \t 16914.0\n",
      "107 \t 3 \t 6710 \t 16914.0\n",
      "108 \t 3 \t 6740 \t 16914.0\n",
      "109 \t 2 \t 6780 \t 16914.0\n",
      "110 \t 2 \t 6810 \t 16914.0\n",
      "111 \t 2 \t 6850 \t 16914.0\n",
      "112 \t 2 \t 6880 \t 16914.0\n",
      "113 \t 2 \t 6910 \t 16914.0\n",
      "114 \t 2 \t 6950 \t 16914.0\n",
      "115 \t 2 \t 6980 \t 16914.0\n",
      "116 \t 2 \t 7010 \t 16914.0\n",
      "117 \t 2 \t 7050 \t 16914.0\n",
      "118 \t 2 \t 7080 \t 16914.0\n",
      "119 \t 2 \t 7110 \t 16914.0\n"
     ]
    }
   ],
   "source": [
    "# acid demo till death\n",
    "vit = np.arange(80,120,1)\n",
    "for i in vit:\n",
    "    hp = max_hp(0.75, 5, 0, 1.1, True, True, 99, 100)\n",
    "    damage = acid_demo_damage(SL, A, B, C, D, E, F, G, H, INT, i)\n",
    "    print(i, \"\\t\", round(hp/damage), \"\\t\",damage, \"\\t\", hp)\n",
    "    \n",
    "    \n"
   ]
  },
  {
   "cell_type": "code",
   "execution_count": 58,
   "metadata": {},
   "outputs": [
    {
     "data": {
      "text/plain": [
       "0.45"
      ]
     },
     "execution_count": 58,
     "metadata": {},
     "output_type": "execute_result"
    }
   ],
   "source": [
    "(5+ 20 + np.floor(100/10) + 10)/100"
   ]
  },
  {
   "cell_type": "code",
   "execution_count": null,
   "metadata": {},
   "outputs": [],
   "source": []
  }
 ],
 "metadata": {
  "kernelspec": {
   "display_name": "Python 3",
   "language": "python",
   "name": "python3"
  },
  "language_info": {
   "codemirror_mode": {
    "name": "ipython",
    "version": 3
   },
   "file_extension": ".py",
   "mimetype": "text/x-python",
   "name": "python",
   "nbconvert_exporter": "python",
   "pygments_lexer": "ipython3",
   "version": "3.8.3"
  }
 },
 "nbformat": 4,
 "nbformat_minor": 4
}
